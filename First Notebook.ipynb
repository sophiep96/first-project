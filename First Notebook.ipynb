{
    "nbformat_minor": 0, 
    "nbformat": 4, 
    "cells": [
        {
            "source": "# The code was removed by DSX for sharing.", 
            "execution_count": null, 
            "metadata": {
                "collapsed": true
            }, 
            "cell_type": "code", 
            "outputs": []
        }, 
        {
            "source": "#Required Packages section\n\nif(!require(devtools)){\n    install.packages(\"devtools\")\n    library(devtools)\n}", 
            "execution_count": 1, 
            "metadata": {
                "collapsed": false
            }, 
            "cell_type": "code", 
            "outputs": [
                {
                    "name": "stderr", 
                    "text": "Loading required package: devtools\n", 
                    "output_type": "stream"
                }
            ]
        }, 
        {
            "source": "#Install custom (IBM DSX GitHub) packages\n#https://github.com/IBMDataScience/objectStoreR", 
            "execution_count": null, 
            "metadata": {
                "collapsed": true
            }, 
            "cell_type": "code", 
            "outputs": []
        }
    ], 
    "metadata": {
        "kernelspec": {
            "name": "r-spark20", 
            "language": "R", 
            "display_name": "R with Spark 2.0"
        }, 
        "language_info": {
            "name": "R", 
            "pygments_lexer": "r", 
            "codemirror_mode": "r", 
            "mimetype": "text/x-r-source", 
            "file_extension": ".r", 
            "version": "3.3.2"
        }
    }
}